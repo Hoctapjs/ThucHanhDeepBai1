{
 "cells": [
  {
   "cell_type": "code",
   "execution_count": null,
   "id": "15d26483",
   "metadata": {},
   "outputs": [],
   "source": [
    "# làm sạch cơ bản\n",
    "\n",
    "import pandas as pd\n",
    "import numpy as np\n",
    "from IPython.display import display # thư viện hỗ trợ hiển thị cho pandas\n",
    "\n",
    "df = pd.read_csv(\"JobsDataset.csv\") # đọc file\n",
    "\n",
    "df.drop_duplicates(inplace=True) # xóa dòng bị trùng 100%\n",
    "df.dropna(subset=['Query', 'Job Title', 'Description'], inplace=True) # xóa dòng nếu thiếu 1 trong 3 cột"
   ]
  },
  {
   "cell_type": "code",
   "execution_count": 3,
   "id": "9b26f6c6",
   "metadata": {},
   "outputs": [
    {
     "name": "stdout",
     "output_type": "stream",
     "text": [
      "    ID           Query                             Job Title  \\\n",
      "0    1  Data Scientist  Junior Data Scientist Apprenticeship   \n",
      "1    2  Data Scientist   HBO Data Scientist, Content Science   \n",
      "2    3  Data Scientist                 Junior Data Scientist   \n",
      "3    4  Data Scientist                     Jr Data Scientist   \n",
      "4    5  Data Scientist       Data Scientist, Premium Content   \n",
      "5    6  Data Scientist                        Data Scientist   \n",
      "6    7  Data Scientist               Customer Data Scientist   \n",
      "7    8  Data Scientist         Data Analyst / Data Scientist   \n",
      "8    9  Data Scientist                        Data Scientist   \n",
      "9   10  Data Scientist                 Junior Data Scientist   \n",
      "10  11  Data Scientist                        Data Scientist   \n",
      "11  12  Data Scientist             Geospatial Data Scientist   \n",
      "12  13  Data Scientist              Associate Data Scientist   \n",
      "13  14  Data Scientist                        Data Scientist   \n",
      "14  15  Data Scientist                        Data Scientist   \n",
      "15  16  Data Scientist                        Data Scientist   \n",
      "16  17  Data Scientist     Data Scientist, Patient Messaging   \n",
      "17  18  Data Scientist          Distinguished Data Scientist   \n",
      "18  19  Data Scientist                        Data Scientist   \n",
      "19  20  Data Scientist            Data Scientist/ Researcher   \n",
      "\n",
      "                                          Description  \n",
      "0   Job Description As a Junior Data Scientist at ...  \n",
      "1   OVERALL SUMMARY As a Data Scientist on the Dat...  \n",
      "2   The Team: The Data science team is a newly for...  \n",
      "3   We now have a need for junior Data Scientist(s...  \n",
      "4   Do you want to help guide the core business of...  \n",
      "5   The Mayor's Office of Data Analytics (MODA) is...  \n",
      "6   Smartly.io is a fast-growing company aiming to...  \n",
      "7   We have a client that is looking for a data sc...  \n",
      "8   Marketing Statement MetroPlus Health Plan prov...  \n",
      "9   Job Description: Junior Data Scientist, Member...  \n",
      "10  About Narrativ Narrativ [https://narrativ.com/...  \n",
      "11  NYC Department of Finance (DOF) is responsible...  \n",
      "12  Overview: Alliant is seeking an Associate Data...  \n",
      "13  _Position Mission/Summary:_ Looking for opport...  \n",
      "14  Overview: Alliant is seeking a Data Scientist ...  \n",
      "15  Join Sweeten, a fast growing, award-winning te...  \n",
      "16  \\--------- The Role: \\--------- Phreesia’s pat...  \n",
      "17  As a Distinguished Data Scientist, you will pr...  \n",
      "18  Overview Data & Analysis – Data Scientist Digi...  \n",
      "19  As the Data Scientist with the Market Intellig...  \n"
     ]
    }
   ],
   "source": [
    "print(df.head(20))"
   ]
  }
 ],
 "metadata": {
  "kernelspec": {
   "display_name": "Python 3",
   "language": "python",
   "name": "python3"
  },
  "language_info": {
   "codemirror_mode": {
    "name": "ipython",
    "version": 3
   },
   "file_extension": ".py",
   "mimetype": "text/x-python",
   "name": "python",
   "nbconvert_exporter": "python",
   "pygments_lexer": "ipython3",
   "version": "3.10.0"
  }
 },
 "nbformat": 4,
 "nbformat_minor": 5
}
